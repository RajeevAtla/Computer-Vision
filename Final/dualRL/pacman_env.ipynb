{
 "cells": [
  {
   "cell_type": "code",
   "execution_count": 2,
   "id": "5b9b6b3f-0b0b-4b30-8729-5bdfb9d5aede",
   "metadata": {
    "tags": []
   },
   "outputs": [
    {
     "ename": "ModuleNotFoundError",
     "evalue": "No module named 'gym'",
     "output_type": "error",
     "traceback": [
      "\u001b[0;31m---------------------------------------------------------------------------\u001b[0m",
      "\u001b[0;31mModuleNotFoundError\u001b[0m                       Traceback (most recent call last)",
      "Cell \u001b[0;32mIn[2], line 1\u001b[0m\n\u001b[0;32m----> 1\u001b[0m \u001b[38;5;28;01mimport\u001b[39;00m \u001b[38;5;21;01mgym\u001b[39;00m \n\u001b[1;32m      3\u001b[0m \u001b[38;5;28;01mclass\u001b[39;00m \u001b[38;5;21;01mPacmanEnv\u001b[39;00m(gym\u001b[38;5;241m.\u001b[39mEnv):\n\u001b[1;32m      4\u001b[0m     \u001b[38;5;28;01mdef\u001b[39;00m \u001b[38;5;21m__init__\u001b[39m(\u001b[38;5;28mself\u001b[39m):\n",
      "\u001b[0;31mModuleNotFoundError\u001b[0m: No module named 'gym'"
     ]
    }
   ],
   "source": [
    "import gym \n",
    "\n",
    "class PacmanEnv(gym.Env):\n",
    "    def __init__(self):\n",
    "        super(PacmanEnv, self).__init__()\n",
    "        self.grid_size = 10\n",
    "        \n",
    "        # Action spaces for Pacman and Ghost\n",
    "        self.action_space = spaces.Tuple((\n",
    "            spaces.Discrete(4),  # Pacman: Up, Down, Left, Right\n",
    "            spaces.Discrete(4)   # Ghost: Up, Down, Left, Right\n",
    "        ))\n",
    "        \n",
    "        # Observation space for both agents\n",
    "        self.observation_space = spaces.Dict({\n",
    "            \"pacman\": spaces.Box(low=0, high=1, shape=(self.grid_size, self.grid_size, 5), dtype=np.float32),\n",
    "            \"ghost\": spaces.Box(low=0, high=1, shape=(self.grid_size, self.grid_size, 5), dtype=np.float32),\n",
    "        })\n",
    "\n",
    "        self.seed()\n",
    "        self.reset()\n",
    "\n",
    "    def step(self, actions):\n",
    "        pacman_action, ghost_action = actions\n",
    "\n",
    "        # Pacman movement\n",
    "        if pacman_action == 0: self.pacman_pos[0] = max(self.pacman_pos[0] - 1, 0)\n",
    "        elif pacman_action == 1: self.pacman_pos[0] = min(self.pacman_pos[0] + 1, self.grid_size - 1)\n",
    "        elif pacman_action == 2: self.pacman_pos[1] = max(self.pacman_pos[1] - 1, 0)\n",
    "        elif pacman_action == 3: self.pacman_pos[1] = min(self.pacman_pos[1] + 1, self.grid_size - 1)\n",
    "\n",
    "        # Ghost movement\n",
    "        if ghost_action == 0: self.ghost_pos[0] = max(self.ghost_pos[0] - 1, 0)\n",
    "        elif ghost_action == 1: self.ghost_pos[0] = min(self.ghost_pos[0] + 1, self.grid_size - 1)\n",
    "        elif ghost_action == 2: self.ghost_pos[1] = max(self.ghost_pos[1] - 1, 0)\n",
    "        elif ghost_action == 3: self.ghost_pos[1] = min(self.ghost_pos[1] + 1, self.grid_size - 1)\n",
    "\n",
    "        # Compute rewards\n",
    "        pacman_reward, ghost_reward = -0.1, -0.1  # Default penalties for each step\n",
    "\n",
    "        if self.pacman_pos == self.ghost_pos:  # Ghost catches Pacman\n",
    "            pacman_reward -= 10\n",
    "            ghost_reward += 10\n",
    "            done = True\n",
    "        else:\n",
    "            done = False\n",
    "\n",
    "        # Update state and return observations for both agents\n",
    "        self._update_state()\n",
    "        return {\n",
    "            \"pacman\": self.state,\n",
    "            \"ghost\": self.state,\n",
    "        }, {\n",
    "            \"pacman\": pacman_reward,\n",
    "            \"ghost\": ghost_reward,\n",
    "        }, done, {}\n",
    "\n",
    "    def reset(self):\n",
    "        # Reset positions, rewards, and state\n",
    "        self.pacman_pos = [0, 0]\n",
    "        self.ghost_pos = [self.grid_size - 1, self.grid_size - 1]\n",
    "        self._update_state()\n",
    "        return {\n",
    "            \"pacman\": self.state,\n",
    "            \"ghost\": self.state,\n",
    "        }"
   ]
  },
  {
   "cell_type": "code",
   "execution_count": null,
   "id": "571ec403-cbdd-49f3-ae2d-c8821601bd42",
   "metadata": {},
   "outputs": [],
   "source": []
  },
  {
   "cell_type": "code",
   "execution_count": null,
   "id": "e07bd220-4e2e-4e0e-be7a-4e08835130cf",
   "metadata": {},
   "outputs": [],
   "source": []
  }
 ],
 "metadata": {
  "kernelspec": {
   "display_name": "pytorch-2.3.1",
   "language": "python",
   "name": "pytorch-2.3.1"
  },
  "language_info": {
   "codemirror_mode": {
    "name": "ipython",
    "version": 3
   },
   "file_extension": ".py",
   "mimetype": "text/x-python",
   "name": "python",
   "nbconvert_exporter": "python",
   "pygments_lexer": "ipython3",
   "version": "3.11.9"
  }
 },
 "nbformat": 4,
 "nbformat_minor": 5
}
