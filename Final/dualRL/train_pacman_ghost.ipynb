{
 "cells": [
  {
   "cell_type": "code",
   "execution_count": 4,
   "id": "86f04c0b-10bd-4e45-9389-9f9e82d7fd93",
   "metadata": {
    "tags": []
   },
   "outputs": [
    {
     "ename": "ModuleNotFoundError",
     "evalue": "No module named 'stable_baselines3'",
     "output_type": "error",
     "traceback": [
      "\u001b[0;31m---------------------------------------------------------------------------\u001b[0m",
      "\u001b[0;31mModuleNotFoundError\u001b[0m                       Traceback (most recent call last)",
      "Cell \u001b[0;32mIn[4], line 1\u001b[0m\n\u001b[0;32m----> 1\u001b[0m \u001b[38;5;28;01mfrom\u001b[39;00m \u001b[38;5;21;01mstable_baselines3\u001b[39;00m \u001b[38;5;28;01mimport\u001b[39;00m DQN\n\u001b[1;32m      2\u001b[0m \u001b[38;5;28;01mfrom\u001b[39;00m \u001b[38;5;21;01mstable_baselines3\u001b[39;00m\u001b[38;5;21;01m.\u001b[39;00m\u001b[38;5;21;01mcommon\u001b[39;00m\u001b[38;5;21;01m.\u001b[39;00m\u001b[38;5;21;01menv_util\u001b[39;00m \u001b[38;5;28;01mimport\u001b[39;00m make_vec_env\n\u001b[1;32m      3\u001b[0m \u001b[38;5;28;01mfrom\u001b[39;00m \u001b[38;5;21;01mpacman_env\u001b[39;00m \u001b[38;5;28;01mimport\u001b[39;00m PacmanEnv\n",
      "\u001b[0;31mModuleNotFoundError\u001b[0m: No module named 'stable_baselines3'"
     ]
    }
   ],
   "source": [
    "from stable_baselines3 import DQN\n",
    "from stable_baselines3.common.env_util import make_vec_env\n",
    "from pacman_env import PacmanEnv\n",
    "import numpy as np\n",
    "import matplotlib.pyplot as plt\n",
    "\n",
    "# Initialize environment\n",
    "env = PacmanEnv()\n",
    "\n",
    "# Wrap the environment for Stable-Baselines3\n",
    "vec_env = make_vec_env(lambda: env, n_envs=1)\n",
    "\n",
    "# Initialize separate models for Pacman and Ghost\n",
    "pacman_model = DQN(\"MlpPolicy\", vec_env, verbose=1, gamma=0.99)\n",
    "ghost_model = DQN(\"MlpPolicy\", vec_env, verbose=1, gamma=0.99)\n",
    "\n",
    "# Training parameters\n",
    "pacman_losses, ghost_losses = [], []\n",
    "n_steps = 10000\n",
    "\n",
    "# Training loop\n",
    "for step in range(n_steps):\n",
    "    # Train Pacman\n",
    "    pacman_model.learn(total_timesteps=1, log_interval=None)\n",
    "    pacman_loss = compute_dqn_loss(pacman_model, pacman_model.replay_buffer)\n",
    "    pacman_losses.append(pacman_loss)\n",
    "\n",
    "    # Train Ghost\n",
    "    ghost_model.learn(total_timesteps=1, log_interval=None)\n",
    "    ghost_loss = compute_dqn_loss(ghost_model, ghost_model.replay_buffer)\n",
    "    ghost_losses.append(ghost_loss)\n",
    "\n",
    "    if step % 100 == 0:\n",
    "        print(f\"Step {step}: Pacman Loss = {pacman_loss}, Ghost Loss = {ghost_loss}\")\n",
    "\n",
    "# Save and plot losses\n",
    "np.save(\"pacman_losses.npy\", pacman_losses)\n",
    "np.save(\"ghost_losses.npy\", ghost_losses)\n",
    "\n",
    "# Plot Pacman and Ghost losses\n",
    "plt.figure(figsize=(12, 6))\n",
    "plt.plot(pacman_losses, label=\"Pacman Loss\")\n",
    "plt.plot(ghost_losses, label=\"Ghost Loss\")\n",
    "plt.xlabel(\"Timesteps\")\n",
    "plt.ylabel(\"Loss\")\n",
    "plt.title(\"Loss Over Time for Pacman and Ghost\")\n",
    "plt.legend()\n",
    "plt.grid()\n",
    "plt.show()"
   ]
  },
  {
   "cell_type": "code",
   "execution_count": null,
   "id": "f13f5ede-6d16-43a2-9f47-29bd83d2dac3",
   "metadata": {},
   "outputs": [],
   "source": []
  },
  {
   "cell_type": "code",
   "execution_count": null,
   "id": "5182af7b-b634-4091-a42e-fd3eb6722b34",
   "metadata": {},
   "outputs": [],
   "source": []
  }
 ],
 "metadata": {
  "kernelspec": {
   "display_name": "pytorch-2.3.1",
   "language": "python",
   "name": "pytorch-2.3.1"
  },
  "language_info": {
   "codemirror_mode": {
    "name": "ipython",
    "version": 3
   },
   "file_extension": ".py",
   "mimetype": "text/x-python",
   "name": "python",
   "nbconvert_exporter": "python",
   "pygments_lexer": "ipython3",
   "version": "3.11.9"
  }
 },
 "nbformat": 4,
 "nbformat_minor": 5
}
