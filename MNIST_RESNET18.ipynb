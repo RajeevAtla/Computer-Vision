{
  "cells": [
    {
      "cell_type": "code",
      "execution_count": 3,
      "metadata": {
        "id": "q8AR_9qZLdVw"
      },
      "outputs": [],
      "source": [
        "import torch\n",
        "import torch.nn as nn\n",
        "import torch.optim as opt\n",
        "from torchvision import transforms, models, datasets\n",
        "from torch.utils.data import DataLoader\n",
        "import os\n",
        "from torchvision.models import ResNet18_Weights\n",
        "from tqdm import tqdm\n",
        "from sklearn.metrics import confusion_matrix, classification_report\n",
        "import torch.nn.functional as F\n",
        "import numpy as np"
      ]
    },
    {
      "cell_type": "code",
      "execution_count": 5,
      "metadata": {
        "colab": {
          "base_uri": "https://localhost:8080/"
        },
        "id": "mTugagbeKnUC",
        "outputId": "4aa5b760-904a-4442-9082-c5d57fcdc334"
      },
      "outputs": [
        {
          "output_type": "stream",
          "name": "stdout",
          "text": [
            "Downloading http://yann.lecun.com/exdb/mnist/train-images-idx3-ubyte.gz\n",
            "Failed to download (trying next):\n",
            "<urlopen error [SSL: CERTIFICATE_VERIFY_FAILED] certificate verify failed: certificate has expired (_ssl.c:1007)>\n",
            "\n",
            "Downloading https://ossci-datasets.s3.amazonaws.com/mnist/train-images-idx3-ubyte.gz\n",
            "Downloading https://ossci-datasets.s3.amazonaws.com/mnist/train-images-idx3-ubyte.gz to data/MNIST/raw/train-images-idx3-ubyte.gz\n"
          ]
        },
        {
          "output_type": "stream",
          "name": "stderr",
          "text": [
            "100%|██████████| 9.91M/9.91M [00:03<00:00, 2.88MB/s]\n"
          ]
        },
        {
          "output_type": "stream",
          "name": "stdout",
          "text": [
            "Extracting data/MNIST/raw/train-images-idx3-ubyte.gz to data/MNIST/raw\n",
            "\n",
            "Downloading http://yann.lecun.com/exdb/mnist/train-labels-idx1-ubyte.gz\n",
            "Failed to download (trying next):\n",
            "<urlopen error [SSL: CERTIFICATE_VERIFY_FAILED] certificate verify failed: certificate has expired (_ssl.c:1007)>\n",
            "\n",
            "Downloading https://ossci-datasets.s3.amazonaws.com/mnist/train-labels-idx1-ubyte.gz\n",
            "Downloading https://ossci-datasets.s3.amazonaws.com/mnist/train-labels-idx1-ubyte.gz to data/MNIST/raw/train-labels-idx1-ubyte.gz\n"
          ]
        },
        {
          "output_type": "stream",
          "name": "stderr",
          "text": [
            "100%|██████████| 28.9k/28.9k [00:00<00:00, 497kB/s]\n"
          ]
        },
        {
          "output_type": "stream",
          "name": "stdout",
          "text": [
            "Extracting data/MNIST/raw/train-labels-idx1-ubyte.gz to data/MNIST/raw\n",
            "\n",
            "Downloading http://yann.lecun.com/exdb/mnist/t10k-images-idx3-ubyte.gz\n",
            "Failed to download (trying next):\n",
            "<urlopen error [SSL: CERTIFICATE_VERIFY_FAILED] certificate verify failed: certificate has expired (_ssl.c:1007)>\n",
            "\n",
            "Downloading https://ossci-datasets.s3.amazonaws.com/mnist/t10k-images-idx3-ubyte.gz\n",
            "Downloading https://ossci-datasets.s3.amazonaws.com/mnist/t10k-images-idx3-ubyte.gz to data/MNIST/raw/t10k-images-idx3-ubyte.gz\n"
          ]
        },
        {
          "output_type": "stream",
          "name": "stderr",
          "text": [
            "100%|██████████| 1.65M/1.65M [00:00<00:00, 4.50MB/s]\n"
          ]
        },
        {
          "output_type": "stream",
          "name": "stdout",
          "text": [
            "Extracting data/MNIST/raw/t10k-images-idx3-ubyte.gz to data/MNIST/raw\n",
            "\n",
            "Downloading http://yann.lecun.com/exdb/mnist/t10k-labels-idx1-ubyte.gz\n",
            "Failed to download (trying next):\n",
            "<urlopen error [SSL: CERTIFICATE_VERIFY_FAILED] certificate verify failed: certificate has expired (_ssl.c:1007)>\n",
            "\n",
            "Downloading https://ossci-datasets.s3.amazonaws.com/mnist/t10k-labels-idx1-ubyte.gz\n",
            "Downloading https://ossci-datasets.s3.amazonaws.com/mnist/t10k-labels-idx1-ubyte.gz to data/MNIST/raw/t10k-labels-idx1-ubyte.gz\n"
          ]
        },
        {
          "output_type": "stream",
          "name": "stderr",
          "text": [
            "100%|██████████| 4.54k/4.54k [00:00<00:00, 9.92MB/s]\n"
          ]
        },
        {
          "output_type": "stream",
          "name": "stdout",
          "text": [
            "Extracting data/MNIST/raw/t10k-labels-idx1-ubyte.gz to data/MNIST/raw\n",
            "\n"
          ]
        },
        {
          "output_type": "stream",
          "name": "stderr",
          "text": [
            "Downloading: \"https://download.pytorch.org/models/resnet18-f37072fd.pth\" to /root/.cache/torch/hub/checkpoints/resnet18-f37072fd.pth\n",
            "100%|██████████| 44.7M/44.7M [00:01<00:00, 23.8MB/s]\n",
            "Epoch 1/5: 100%|██████████| 938/938 [05:01<00:00,  3.11it/s, loss=0.0694]\n",
            "Epoch 2/5: 100%|██████████| 938/938 [04:54<00:00,  3.19it/s, loss=0.034]\n",
            "Epoch 3/5: 100%|██████████| 938/938 [04:47<00:00,  3.26it/s, loss=0.0266]\n",
            "Epoch 4/5: 100%|██████████| 938/938 [04:48<00:00,  3.25it/s, loss=0.0233]\n",
            "Epoch 5/5: 100%|██████████| 938/938 [04:48<00:00,  3.25it/s, loss=0.0211]\n"
          ]
        }
      ],
      "source": [
        "# Data Transforms\n",
        "transform = transforms.Compose([\n",
        "    transforms.Grayscale(num_output_channels=3),  # Convert grayscale to 3 channels\n",
        "    transforms.Resize((224, 224)),  # Resize to 224x224 as ResNet-18 expects\n",
        "    transforms.ToTensor(),\n",
        "    transforms.Normalize((0.5,), (0.5,))  # Normalize the data\n",
        "])\n",
        "\n",
        "\n",
        "# Download Pytorch MNIST dataset\n",
        "train_dataset = datasets.MNIST(root='data', train=True, download=True, transform=transform)\n",
        "test_dataset = datasets.MNIST(root='data', train=False, download=True, transform=transform)\n",
        "\n",
        "# Create data loaders\n",
        "train_loader = DataLoader(dataset=train_dataset, batch_size=64, shuffle=True)\n",
        "test_loader = DataLoader(dataset=test_dataset, batch_size=64, shuffle=False)\n",
        "\n",
        "# Import resnet18 module\n",
        "resnet18 = models.resnet18(weights=ResNet18_Weights.DEFAULT)\n",
        "\n",
        "# Change the input layer to accept Graysacle\n",
        "resnet18.conv1 = nn.Conv2d(3, 64, kernel_size=7, stride=2, padding=3, bias=False)\n",
        "# Output layer has 10 outputs\n",
        "resnet18.fc = nn.Linear(resnet18.fc.in_features, 10)\n",
        "\n",
        "criterion = nn.CrossEntropyLoss()\n",
        "optimizer = torch.optim.Adam(resnet18.parameters(), lr=0.001)\n",
        "device = torch.device(\"cuda\" if torch.cuda.is_available() else \"cpu\")\n",
        "resnet18.to(device)\n",
        "\n",
        "epochs = 5\n",
        "resnet18.train()\n",
        "for epoch in range(epochs):\n",
        "    running_loss = 0.0\n",
        "    # Wrap the data loader with tqdm for the progress bar\n",
        "    progress_bar = tqdm(train_loader, desc=f\"Epoch {epoch + 1}/{epochs}\")\n",
        "    for images, labels in progress_bar:\n",
        "        images, labels = images.to(device), labels.to(device)\n",
        "        optimizer.zero_grad()\n",
        "        outputs = resnet18(images)\n",
        "        loss = criterion(outputs, labels)\n",
        "        loss.backward()\n",
        "        optimizer.step()\n",
        "\n",
        "        running_loss += loss.item()\n",
        "        # Update progress bar with the current loss\n",
        "        progress_bar.set_postfix(loss=running_loss / len(train_loader))\n"
      ]
    },
    {
      "cell_type": "code",
      "execution_count": 6,
      "metadata": {
        "id": "PNAKLGoZL8L2",
        "colab": {
          "base_uri": "https://localhost:8080/"
        },
        "outputId": "ae0d478a-1138-493c-c807-d3ca6b5a8d22"
      },
      "outputs": [
        {
          "output_type": "stream",
          "name": "stdout",
          "text": [
            "Accuracy: 99.11%\n",
            "\n",
            "Confusion Matrix:\n",
            " [[ 978    0    0    0    0    0    1    0    0    1]\n",
            " [   0 1123    0    1    0    3    7    1    0    0]\n",
            " [   0    1 1029    0    0    0    1    0    1    0]\n",
            " [   0    0    2 1003    0    4    0    0    1    0]\n",
            " [   0    0    0    0  980    0    0    0    1    1]\n",
            " [   0    0    0    1    0  890    1    0    0    0]\n",
            " [  16    0    0    0    1    4  936    0    1    0]\n",
            " [   0    2   10    0    1    0    0 1015    0    0]\n",
            " [   1    0    2    0    0    1    0    1  969    0]\n",
            " [   0    0    0    0   12    1    0    6    2  988]]\n",
            "\n",
            "Classification Report:\n",
            "               precision    recall  f1-score   support\n",
            "\n",
            "           0     0.9829    0.9980    0.9904       980\n",
            "           1     0.9973    0.9894    0.9934      1135\n",
            "           2     0.9866    0.9971    0.9918      1032\n",
            "           3     0.9980    0.9931    0.9955      1010\n",
            "           4     0.9859    0.9980    0.9919       982\n",
            "           5     0.9856    0.9978    0.9916       892\n",
            "           6     0.9894    0.9770    0.9832       958\n",
            "           7     0.9922    0.9874    0.9898      1028\n",
            "           8     0.9938    0.9949    0.9944       974\n",
            "           9     0.9980    0.9792    0.9885      1009\n",
            "\n",
            "    accuracy                         0.9911     10000\n",
            "   macro avg     0.9910    0.9912    0.9910     10000\n",
            "weighted avg     0.9911    0.9911    0.9911     10000\n",
            "\n"
          ]
        }
      ],
      "source": [
        "# Function to evaluate the model on the test set\n",
        "def evaluate_model(model, test_loader, device):\n",
        "    model.eval()  # Set the model to evaluation mode\n",
        "    correct = 0\n",
        "    total = 0\n",
        "    all_preds = []\n",
        "    all_labels = []\n",
        "\n",
        "    with torch.no_grad():  # No need to track gradients for validation\n",
        "        for images, labels in test_loader:\n",
        "            images, labels = images.to(device), labels.to(device)\n",
        "            outputs = model(images)\n",
        "            _, predicted = torch.max(outputs.data, 1)\n",
        "            total += labels.size(0)\n",
        "            correct += (predicted == labels).sum().item()\n",
        "\n",
        "            # Collect predictions and labels for metrics calculation\n",
        "            all_preds.extend(predicted.cpu().numpy())\n",
        "            all_labels.extend(labels.cpu().numpy())\n",
        "\n",
        "    # Calculate accuracy\n",
        "    accuracy = correct / total\n",
        "    print(f'Accuracy: {accuracy * 100:.2f}%')\n",
        "\n",
        "    # Generate confusion matrix\n",
        "    conf_matrix = confusion_matrix(all_labels, all_preds)\n",
        "    print(\"\\nConfusion Matrix:\\n\", conf_matrix)\n",
        "\n",
        "    # Generate classification report\n",
        "    class_report = classification_report(all_labels, all_preds, digits=4)\n",
        "    print(\"\\nClassification Report:\\n\", class_report)\n",
        "\n",
        "# Evaluate the model\n",
        "evaluate_model(resnet18, test_loader, device)\n"
      ]
    }
  ],
  "metadata": {
    "accelerator": "GPU",
    "colab": {
      "gpuType": "T4",
      "provenance": []
    },
    "kernelspec": {
      "display_name": "Python 3",
      "name": "python3"
    },
    "language_info": {
      "name": "python"
    }
  },
  "nbformat": 4,
  "nbformat_minor": 0
}